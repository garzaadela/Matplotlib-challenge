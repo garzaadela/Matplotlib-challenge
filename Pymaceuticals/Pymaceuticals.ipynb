{
 "cells": [
  {
   "cell_type": "markdown",
   "metadata": {},
   "source": [
    "### Observations\n",
    "- There was an even number of males and females in the study. \n",
    "- Capomulin was the drug that had the smalles final tumor volume while Ceftamin seemed to have the largest tumor volume.\n",
    "- There was a significant decrease in tumor volume for mouse s185 with every Timepoint."
   ]
  },
  {
   "cell_type": "code",
   "execution_count": 1,
   "metadata": {},
   "outputs": [],
   "source": [
    "## Dependencies\n",
    "import matplotlib.pyplot as plt\n",
    "import pandas as pd\n",
    "import scipy.stats as st"
   ]
  },
  {
   "cell_type": "code",
   "execution_count": 2,
   "metadata": {},
   "outputs": [],
   "source": [
    "## Study data files\n",
    "mouse_metadata_path = \"data/Mouse_metadata.csv\"\n",
    "study_results_path = \"data/Study_results.csv\"\n",
    "## Read the mouse data and the study results\n",
    "mouse_metadata = pd.read_csv(mouse_metadata_path)\n",
    "study_results = pd.read_csv(study_results_path)"
   ]
  },
  {
   "cell_type": "code",
   "execution_count": 4,
   "metadata": {},
   "outputs": [],
   "source": [
    "## merge the data\n",
    "main_df = mouse_metadata.merge(study_results, on='Mouse ID')\n",
    "main_df = main_df.rename(columns=lambda x: x.lower().replace(' ', '_'))\n",
    "dup_mouse = main_df.loc[main_df.duplicated(subset=['mouse_id', 'timepoint']), 'mouse_id'].unique()\n",
    "clean_df = main_df[main_df['mouse_id'].isin(dup_mouse) == False]"
   ]
  },
  {
   "cell_type": "markdown",
   "metadata": {},
   "source": [
    "## Summary Statistics"
   ]
  },
  {
   "cell_type": "code",
   "execution_count": 5,
   "metadata": {},
   "outputs": [
    {
     "data": {
      "text/html": [
       "<div>\n",
       "<style scoped>\n",
       "    .dataframe tbody tr th:only-of-type {\n",
       "        vertical-align: middle;\n",
       "    }\n",
       "\n",
       "    .dataframe tbody tr th {\n",
       "        vertical-align: top;\n",
       "    }\n",
       "\n",
       "    .dataframe thead th {\n",
       "        text-align: right;\n",
       "    }\n",
       "</style>\n",
       "<table border=\"1\" class=\"dataframe\">\n",
       "  <thead>\n",
       "    <tr style=\"text-align: right;\">\n",
       "      <th></th>\n",
       "      <th>mean_tumor_volume</th>\n",
       "      <th>median_tumor_volume</th>\n",
       "      <th>tumor_volume_variance</th>\n",
       "      <th>tumor_volume_std_dev</th>\n",
       "      <th>tumor_volume_std_err</th>\n",
       "    </tr>\n",
       "    <tr>\n",
       "      <th>drug_regimen</th>\n",
       "      <th></th>\n",
       "      <th></th>\n",
       "      <th></th>\n",
       "      <th></th>\n",
       "      <th></th>\n",
       "    </tr>\n",
       "  </thead>\n",
       "  <tbody>\n",
       "    <tr>\n",
       "      <th>Capomulin</th>\n",
       "      <td>40.675741</td>\n",
       "      <td>41.557809</td>\n",
       "      <td>24.947764</td>\n",
       "      <td>4.994774</td>\n",
       "      <td>0.329346</td>\n",
       "    </tr>\n",
       "    <tr>\n",
       "      <th>Ceftamin</th>\n",
       "      <td>52.591172</td>\n",
       "      <td>51.776157</td>\n",
       "      <td>39.290177</td>\n",
       "      <td>6.268188</td>\n",
       "      <td>0.469821</td>\n",
       "    </tr>\n",
       "    <tr>\n",
       "      <th>Infubinol</th>\n",
       "      <td>52.884795</td>\n",
       "      <td>51.820584</td>\n",
       "      <td>43.128684</td>\n",
       "      <td>6.567243</td>\n",
       "      <td>0.492236</td>\n",
       "    </tr>\n",
       "    <tr>\n",
       "      <th>Ketapril</th>\n",
       "      <td>55.235638</td>\n",
       "      <td>53.698743</td>\n",
       "      <td>68.553577</td>\n",
       "      <td>8.279709</td>\n",
       "      <td>0.603860</td>\n",
       "    </tr>\n",
       "    <tr>\n",
       "      <th>Naftisol</th>\n",
       "      <td>54.331565</td>\n",
       "      <td>52.509285</td>\n",
       "      <td>66.173479</td>\n",
       "      <td>8.134708</td>\n",
       "      <td>0.596466</td>\n",
       "    </tr>\n",
       "    <tr>\n",
       "      <th>Placebo</th>\n",
       "      <td>54.033581</td>\n",
       "      <td>52.288934</td>\n",
       "      <td>61.168083</td>\n",
       "      <td>7.821003</td>\n",
       "      <td>0.581331</td>\n",
       "    </tr>\n",
       "    <tr>\n",
       "      <th>Propriva</th>\n",
       "      <td>52.320930</td>\n",
       "      <td>50.446266</td>\n",
       "      <td>43.852013</td>\n",
       "      <td>6.622085</td>\n",
       "      <td>0.544332</td>\n",
       "    </tr>\n",
       "    <tr>\n",
       "      <th>Ramicane</th>\n",
       "      <td>40.216745</td>\n",
       "      <td>40.673236</td>\n",
       "      <td>23.486704</td>\n",
       "      <td>4.846308</td>\n",
       "      <td>0.320955</td>\n",
       "    </tr>\n",
       "    <tr>\n",
       "      <th>Stelasyn</th>\n",
       "      <td>54.233149</td>\n",
       "      <td>52.431737</td>\n",
       "      <td>59.450562</td>\n",
       "      <td>7.710419</td>\n",
       "      <td>0.573111</td>\n",
       "    </tr>\n",
       "    <tr>\n",
       "      <th>Zoniferol</th>\n",
       "      <td>53.236507</td>\n",
       "      <td>51.818479</td>\n",
       "      <td>48.533355</td>\n",
       "      <td>6.966589</td>\n",
       "      <td>0.516398</td>\n",
       "    </tr>\n",
       "  </tbody>\n",
       "</table>\n",
       "</div>"
      ],
      "text/plain": [
       "              mean_tumor_volume  median_tumor_volume  tumor_volume_variance  \\\n",
       "drug_regimen                                                                  \n",
       "Capomulin             40.675741            41.557809              24.947764   \n",
       "Ceftamin              52.591172            51.776157              39.290177   \n",
       "Infubinol             52.884795            51.820584              43.128684   \n",
       "Ketapril              55.235638            53.698743              68.553577   \n",
       "Naftisol              54.331565            52.509285              66.173479   \n",
       "Placebo               54.033581            52.288934              61.168083   \n",
       "Propriva              52.320930            50.446266              43.852013   \n",
       "Ramicane              40.216745            40.673236              23.486704   \n",
       "Stelasyn              54.233149            52.431737              59.450562   \n",
       "Zoniferol             53.236507            51.818479              48.533355   \n",
       "\n",
       "              tumor_volume_std_dev  tumor_volume_std_err  \n",
       "drug_regimen                                              \n",
       "Capomulin                 4.994774              0.329346  \n",
       "Ceftamin                  6.268188              0.469821  \n",
       "Infubinol                 6.567243              0.492236  \n",
       "Ketapril                  8.279709              0.603860  \n",
       "Naftisol                  8.134708              0.596466  \n",
       "Placebo                   7.821003              0.581331  \n",
       "Propriva                  6.622085              0.544332  \n",
       "Ramicane                  4.846308              0.320955  \n",
       "Stelasyn                  7.710419              0.573111  \n",
       "Zoniferol                 6.966589              0.516398  "
      ]
     },
     "execution_count": 5,
     "metadata": {},
     "output_type": "execute_result"
    }
   ],
   "source": [
    "means = clean_df.groupby('drug_regimen')['tumor_volume_(mm3)'].mean()\n",
    "medians = clean_df.groupby('drug_regimen')['tumor_volume_(mm3)'].median() \n",
    "variance = clean_df.groupby('drug_regimen')['tumor_volume_(mm3)'].var() \n",
    "std_dev = clean_df.groupby('drug_regimen')['tumor_volume_(mm3)'].std() \n",
    "std_err = clean_df.groupby('drug_regimen')['tumor_volume_(mm3)'].sem() \n",
    "\n",
    "summary_table = pd.DataFrame({\n",
    "    'mean_tumor_volume': means,\n",
    "    'median_tumor_volume': medians,\n",
    "    'tumor_volume_variance': variance,\n",
    "    'tumor_volume_std_dev': std_dev,\n",
    "    'tumor_volume_std_err': std_err\n",
    "})\n",
    "summary_table "
   ]
  },
  {
   "cell_type": "markdown",
   "metadata": {},
   "source": [
    "## Bar and Pie Charts"
   ]
  },
  {
   "cell_type": "markdown",
   "metadata": {},
   "source": [
    "#### DataFrame Plot"
   ]
  },
  {
   "cell_type": "code",
   "execution_count": 22,
   "metadata": {},
   "outputs": [],
   "source": [
    "bar_data = clean_df['drug_regimen'].value_counts()"
   ]
  },
  {
   "cell_type": "code",
   "execution_count": 90,
   "metadata": {},
   "outputs": [
    {
     "data": {
      "text/plain": [
       "Text(0, 0.5, '# of Mice')"
      ]
     },
     "execution_count": 90,
     "metadata": {},
     "output_type": "execute_result"
    },
    {
     "data": {
      "image/png": "[encoded data removed]",
      "text/plain": [
       "<Figure size 432x288 with 1 Axes>"
      ]
     },
     "metadata": {
      "needs_background": "light"
     },
     "output_type": "display_data"
    }
   ],
   "source": [
    "bar_data.plot(kind='bar', color = \"r\", title= \"Total Number of Mice per Treatment Regimen\")\n",
    "plt.xlabel(\"Drug Regimen\")\n",
    "plt.ylabel(\"# of Mice\")"
   ]
  },
  {
   "cell_type": "markdown",
   "metadata": {},
   "source": [
    "#### Matplotlib Plot"
   ]
  },
  {
   "cell_type": "code",
   "execution_count": 24,
   "metadata": {},
   "outputs": [
    {
     "data": {
      "text/plain": [
       "Text(0, 0.5, '# of Mice')"
      ]
     },
     "execution_count": 24,
     "metadata": {},
     "output_type": "execute_result"
    },
    {
     "data": {
      "image/png": "[encoded data removed]",
      "text/plain": [
       "<Figure size 432x288 with 1 Axes>"
      ]
     },
     "metadata": {
      "needs_background": "light"
     },
     "output_type": "display_data"
    }
   ],
   "source": [
    "plt.bar( x=bar_data.index, height=bar_data.values, color =\"r\")\n",
    "plt.title(\"Total # of Mice per Treatment Regimen\")\n",
    "plt.xlabel(\"Drug Regimen \")\n",
    "plt.xticks(rotation = 90)\n",
    "plt.ylabel(\"# of Mice\")"
   ]
  },
  {
   "cell_type": "markdown",
   "metadata": {},
   "source": [
    "### Pie Plot"
   ]
  },
  {
   "cell_type": "code",
   "execution_count": 91,
   "metadata": {},
   "outputs": [
    {
     "data": {
      "text/plain": [
       "<matplotlib.legend.Legend at 0x1c555181f88>"
      ]
     },
     "execution_count": 91,
     "metadata": {},
     "output_type": "execute_result"
    },
    {
     "data": {
      "image/png": "[encoded data removed]",
      "text/plain": [
       "<Figure size 432x288 with 1 Axes>"
      ]
     },
     "metadata": {},
     "output_type": "display_data"
    }
   ],
   "source": [
    "gender_count = clean_df['sex'].value_counts()\n",
    "gender_count.plot(kind='pie', colors= ['r','b'])\n",
    "plt.title(\"Distribution of Gender\")\n",
    "plt.legend()"
   ]
  },
  {
   "cell_type": "code",
   "execution_count": 97,
   "metadata": {},
   "outputs": [
    {
     "data": {
      "image/png": "[encoded data removed]",
      "text/plain": [
       "<Figure size 432x288 with 1 Axes>"
      ]
     },
     "metadata": {},
     "output_type": "display_data"
    }
   ],
   "source": [
    "plt.pie(x= gender_count.values, labels = gender_count.index, colors= ['r','b'])\n",
    "plt.title('Mouse Gender')\n",
    "plt.legend()\n",
    "plt.ylabel(\"Sex\")\n",
    "plt.show()"
   ]
  },
  {
   "cell_type": "markdown",
   "metadata": {},
   "source": [
    "### Quartiles, Outliers and Boxplots"
   ]
  },
  {
   "cell_type": "code",
   "execution_count": 39,
   "metadata": {},
   "outputs": [],
   "source": [
    "max_df = clean_df.groupby(\"mouse_id\")[\"timepoint\"].max().reset_index()\n",
    "final_max = clean_df.merge(max_df, on=['mouse_id', 'timepoint'])"
   ]
  },
  {
   "cell_type": "code",
   "execution_count": 40,
   "metadata": {},
   "outputs": [],
   "source": [
    "capomulin_df = final_max.loc[final_max[\"drug_regimen\"]  == 'Capomulin']\n",
    "ramicane_df = final_max.loc[final_max[\"drug_regimen\"]  == 'Ramicane']\n",
    "infubinol_df = final_max.loc[final_max[\"drug_regimen\"]  == 'Infubinol']\n",
    "ceftamin_df = final_max.loc[final_max[\"drug_regimen\"]  == 'Ceftamin']"
   ]
  },
  {
   "cell_type": "code",
   "execution_count": 41,
   "metadata": {},
   "outputs": [],
   "source": [
    "cap_vol = capomulin_df[\"tumor_volume_(mm3)\"]\n",
    "ram_vol = ramicane_df[\"tumor_volume_(mm3)\"]\n",
    "inf_vol = infubinol_df[\"tumor_volume_(mm3)\"]\n",
    "cef_vol = ceftamin_df[\"tumor_volume_(mm3)\"]"
   ]
  },
  {
   "cell_type": "code",
   "execution_count": 74,
   "metadata": {},
   "outputs": [
    {
     "name": "stdout",
     "output_type": "stream",
     "text": [
      "Lower Quartile of capomulin: 32.37735684\n",
      "Upper Quartile of capomulin: 40.1592203\n",
      "These are the outliers\n",
      "Series([], Name: tumor_volume_(mm3), dtype: float64)\n",
      "Series([], Name: tumor_volume_(mm3), dtype: float64)\n",
      "\n",
      "Lower Quartile of ramicane: 31.56046955\n",
      "Upper Quartile of ramicane: 40.65900627\n",
      "These are the outliers\n",
      "Series([], Name: tumor_volume_(mm3), dtype: float64)\n",
      "Series([], Name: tumor_volume_(mm3), dtype: float64)\n",
      "\n",
      "Lower Quartile of infubinol: 54.04860769\n",
      "Upper Quartile of infubinol: 65.52574285\n",
      "These are the outliers\n",
      "74    36.321346\n",
      "Name: tumor_volume_(mm3), dtype: float64\n",
      "Series([], Name: tumor_volume_(mm3), dtype: float64)\n",
      "\n",
      "Lower Quartile of ceftamin: 48.72207785\n",
      "Upper Quartile of ceftamin: 64.29983003\n",
      "These are the outliers\n",
      "Series([], Name: tumor_volume_(mm3), dtype: float64)\n",
      "Series([], Name: tumor_volume_(mm3), dtype: float64)\n",
      "\n"
     ]
    }
   ],
   "source": [
    "all_data = [cap_vol, ram_vol, inf_vol, cef_vol]\n",
    "drug_list= [\"capomulin\", \"ramicane\", \"infubinol\", \"ceftamin\"]\n",
    "\n",
    "for i, drug in enumerate(all_data):\n",
    "    quartiles = drug.quantile([.25, .50, .75])\n",
    "    lowerq = quartiles[0.25]\n",
    "    higherq = quartiles[0.75]\n",
    "    iqr = higherq - lowerq\n",
    "    lower_bound = lowerq - (1.5 * iqr)\n",
    "    upper_bound = higherq + (1.5 * iqr)\n",
    "    \n",
    "    print(f'Lower Quartile of {drug_list[i]}: {lowerq}')\n",
    "    print(f'Upper Quartile of {drug_list[i]}: {higherq}')\n",
    "    print('These are the outliers')\n",
    "    print(drug[drug < lower_bound])\n",
    "    print(drug[drug > upper_bound])\n",
    "    print()"
   ]
  },
  {
   "cell_type": "code",
   "execution_count": 75,
   "metadata": {},
   "outputs": [
    {
     "data": {
      "image/png": "[encoded data removed]",
      "text/plain": [
       "<Figure size 432x288 with 1 Axes>"
      ]
     },
     "metadata": {
      "needs_background": "light"
     },
     "output_type": "display_data"
    }
   ],
   "source": [
    "plt.boxplot([cap_vol,ram_vol,inf_vol,cef_vol],\n",
    "            labels = [\"Capomulin\",\"Ramicane\",\"Infubinol\",\"Ceftamin\"],\n",
    "            sym=\"g\")\n",
    "plt.ylabel(\"Final Tumor Volume (mm3)\")\n",
    "plt.xlabel(\"Drug Treatment\")\n",
    "plt.title(\"Final Tumor Volume\")\n",
    "plt.show()"
   ]
  },
  {
   "cell_type": "markdown",
   "metadata": {},
   "source": [
    "### Line plot - Select a mouse that was treated with Capomulin and generate a line plot of time point versus tumor volume for that mouse"
   ]
  },
  {
   "cell_type": "code",
   "execution_count": 102,
   "metadata": {},
   "outputs": [],
   "source": [
    "## mouse \n",
    "Cap = clean_df.loc[clean_df[\"drug_regimen\"]  == 'Capomulin']\n",
    "mouse_no = Cap.loc[Cap[\"mouse_id\"]  == 's185']\n",
    "time_point = mouse_no['timepoint']\n",
    "tumor_vol = mouse_no['tumor_volume_(mm3)']"
   ]
  },
  {
   "cell_type": "code",
   "execution_count": 101,
   "metadata": {},
   "outputs": [
    {
     "data": {
      "text/plain": [
       "Text(0.5, 1.0, 'Capomulin Mouse ID s185')"
      ]
     },
     "execution_count": 101,
     "metadata": {},
     "output_type": "execute_result"
    },
    {
     "data": {
      "image/png": "[encoded data removed]",
      "text/plain": [
       "<Figure size 432x288 with 1 Axes>"
      ]
     },
     "metadata": {
      "needs_background": "light"
     },
     "output_type": "display_data"
    }
   ],
   "source": [
    "plt.plot(time_point, tumor_vol)\n",
    "plt.ylabel(\"Tumor Volume(mm3)\")\n",
    "plt.xlabel(\"Timepoint\")\n",
    "plt.title(\"Capomulin Mouse ID s185\")"
   ]
  },
  {
   "cell_type": "markdown",
   "metadata": {},
   "source": [
    "### Generate a scatter plot of mouse weight versus average tumor volume for the Capomulin treatment regimen"
   ]
  },
  {
   "cell_type": "code",
   "execution_count": 84,
   "metadata": {},
   "outputs": [
    {
     "data": {
      "text/html": [
       "<div>\n",
       "<style scoped>\n",
       "    .dataframe tbody tr th:only-of-type {\n",
       "        vertical-align: middle;\n",
       "    }\n",
       "\n",
       "    .dataframe tbody tr th {\n",
       "        vertical-align: top;\n",
       "    }\n",
       "\n",
       "    .dataframe thead th {\n",
       "        text-align: right;\n",
       "    }\n",
       "</style>\n",
       "<table border=\"1\" class=\"dataframe\">\n",
       "  <thead>\n",
       "    <tr style=\"text-align: right;\">\n",
       "      <th></th>\n",
       "      <th>age_months</th>\n",
       "      <th>weight_(g)</th>\n",
       "      <th>timepoint</th>\n",
       "      <th>tumor_volume_(mm3)</th>\n",
       "      <th>metastatic_sites</th>\n",
       "    </tr>\n",
       "    <tr>\n",
       "      <th>mouse_id</th>\n",
       "      <th></th>\n",
       "      <th></th>\n",
       "      <th></th>\n",
       "      <th></th>\n",
       "      <th></th>\n",
       "    </tr>\n",
       "  </thead>\n",
       "  <tbody>\n",
       "    <tr>\n",
       "      <th>b128</th>\n",
       "      <td>9.0</td>\n",
       "      <td>22.0</td>\n",
       "      <td>22.5</td>\n",
       "      <td>41.963636</td>\n",
       "      <td>0.7</td>\n",
       "    </tr>\n",
       "    <tr>\n",
       "      <th>b742</th>\n",
       "      <td>7.0</td>\n",
       "      <td>21.0</td>\n",
       "      <td>22.5</td>\n",
       "      <td>40.083699</td>\n",
       "      <td>0.0</td>\n",
       "    </tr>\n",
       "    <tr>\n",
       "      <th>f966</th>\n",
       "      <td>16.0</td>\n",
       "      <td>17.0</td>\n",
       "      <td>10.0</td>\n",
       "      <td>36.505973</td>\n",
       "      <td>0.0</td>\n",
       "    </tr>\n",
       "    <tr>\n",
       "      <th>g288</th>\n",
       "      <td>3.0</td>\n",
       "      <td>19.0</td>\n",
       "      <td>22.5</td>\n",
       "      <td>41.990097</td>\n",
       "      <td>0.8</td>\n",
       "    </tr>\n",
       "    <tr>\n",
       "      <th>g316</th>\n",
       "      <td>22.0</td>\n",
       "      <td>22.0</td>\n",
       "      <td>22.5</td>\n",
       "      <td>44.613344</td>\n",
       "      <td>1.0</td>\n",
       "    </tr>\n",
       "  </tbody>\n",
       "</table>\n",
       "</div>"
      ],
      "text/plain": [
       "          age_months  weight_(g)  timepoint  tumor_volume_(mm3)  \\\n",
       "mouse_id                                                          \n",
       "b128             9.0        22.0       22.5           41.963636   \n",
       "b742             7.0        21.0       22.5           40.083699   \n",
       "f966            16.0        17.0       10.0           36.505973   \n",
       "g288             3.0        19.0       22.5           41.990097   \n",
       "g316            22.0        22.0       22.5           44.613344   \n",
       "\n",
       "          metastatic_sites  \n",
       "mouse_id                    \n",
       "b128                   0.7  \n",
       "b742                   0.0  \n",
       "f966                   0.0  \n",
       "g288                   0.8  \n",
       "g316                   1.0  "
      ]
     },
     "execution_count": 84,
     "metadata": {},
     "output_type": "execute_result"
    }
   ],
   "source": [
    "avg_tumor_volume = Cap.groupby(\"mouse_id\").mean()\n",
    "avg_tumor_volume.head()"
   ]
  },
  {
   "cell_type": "code",
   "execution_count": 100,
   "metadata": {},
   "outputs": [
    {
     "data": {
      "image/png": "[encoded data removed]",
      "text/plain": [
       "<Figure size 432x288 with 1 Axes>"
      ]
     },
     "metadata": {
      "needs_background": "light"
     },
     "output_type": "display_data"
    }
   ],
   "source": [
    "mouse_weight = avg_tumor_volume[\"weight_(g)\"]\n",
    "avg_tumor_vol = avg_tumor_volume[\"tumor_volume_(mm3)\"]\n",
    "plt.scatter(mouse_weight, avg_tumor_vol)\n",
    "plt.xlabel('Mouse Weight(g)')\n",
    "plt.ylabel('Average Tumor Volume(mm3)')\n",
    "plt.title(\"Mouse Weight vs. Average Tumor Volume\")\n",
    "plt.show()"
   ]
  },
  {
   "cell_type": "markdown",
   "metadata": {},
   "source": [
    "### Calculate the correlation coefficient and linear regression model between mouse weight and average tumor volume for the Capomulin treatment"
   ]
  },
  {
   "cell_type": "code",
   "execution_count": 99,
   "metadata": {
    "scrolled": true
   },
   "outputs": [
    {
     "name": "stdout",
     "output_type": "stream",
     "text": [
      "R Val is 0.7088568047708717\n"
     ]
    },
    {
     "data": {
      "image/png": "[encoded data removed]",
      "text/plain": [
       "<Figure size 432x288 with 1 Axes>"
      ]
     },
     "metadata": {
      "needs_background": "light"
     },
     "output_type": "display_data"
    }
   ],
   "source": [
    "mouse_weight = avg_tumor_volume[\"weight_(g)\"]\n",
    "avg_tumor_vol = avg_tumor_volume[\"tumor_volume_(mm3)\"]\n",
    "x_values = avg_tumor_volume['weight_(g)']\n",
    "y_values = avg_tumor_volume['tumor_volume_(mm3)']\n",
    "\n",
    "(slope, intercept, rvalue, pvalue, stderr) = st.linregress(x_values, y_values)\n",
    "regress_values = x_values * slope + intercept\n",
    "line_eq = \"y = \" + str(round(slope,2)) + \"x + \" + str(round(intercept,2))\n",
    "\n",
    "plt.plot(x_values,regress_values,\"r-\")\n",
    "plt.scatter(x_values,y_values)\n",
    "plt.xlabel('Mouse Weight(g)')\n",
    "plt.ylabel('Average Tumor Volume(mm3)')\n",
    "plt.title(\"Mouse Weight vs. Average Tumor Volume\")\n",
    "\n",
    "plt.annotate(line_eq,(6,10),fontsize=15,color=\"red\")\n",
    "print(f\"R Val is {rvalue **2}\")\n",
    "plt.show()"
   ]
  }
 ],
 "metadata": {
  "kernelspec": {
   "display_name": "Python 3",
   "language": "python",
   "name": "python3"
  },
  "language_info": {
   "codemirror_mode": {
    "name": "ipython",
    "version": 3
   },
   "file_extension": ".py",
   "mimetype": "text/x-python",
   "name": "python",
   "nbconvert_exporter": "python",
   "pygments_lexer": "ipython3",
   "version": "3.7.6"
  }
 },
 "nbformat": 4,
 "nbformat_minor": 4
}
